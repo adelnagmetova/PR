{
 "cells": [
  {
   "cell_type": "code",
   "execution_count": 5,
   "metadata": {},
   "outputs": [
    {
     "name": "stdout",
     "output_type": "stream",
     "text": [
      "4 5 6 8 2 \n",
      "3\n",
      "[2, 4, 5, 6, 8]\n",
      "19\n"
     ]
    }
   ],
   "source": [
    "arr = input().split()\n",
    "for i in range(len(arr)):\n",
    "    arr[i] = int(arr[i])\n",
    "t = int(input())\n",
    "arr.sort()\n",
    "print(arr)\n",
    "out= 0\n",
    "s = len(arr)\n",
    "for i in range(t):\n",
    "    out = out + arr[s-1]\n",
    "    s= s-1\n",
    "print(out)\n"
   ]
  },
  {
   "cell_type": "code",
   "execution_count": null,
   "metadata": {
    "collapsed": true
   },
   "outputs": [],
   "source": []
  }
 ],
 "metadata": {
  "kernelspec": {
   "display_name": "Python 3",
   "language": "python",
   "name": "python3"
  },
  "language_info": {
   "codemirror_mode": {
    "name": "ipython",
    "version": 3
   },
   "file_extension": ".py",
   "mimetype": "text/x-python",
   "name": "python",
   "nbconvert_exporter": "python",
   "pygments_lexer": "ipython3",
   "version": "3.6.3"
  }
 },
 "nbformat": 4,
 "nbformat_minor": 2
}

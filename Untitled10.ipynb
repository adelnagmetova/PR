{
 "cells": [
  {
   "cell_type": "code",
   "execution_count": null,
   "metadata": {},
   "outputs": [],
   "source": [
    "%matplotlib inline\n",
    "import pandas as pd\n",
    "import numpy as np\n",
    "from pyDatalog import pyDatalog\n",
    "from pyDatalog import pyEngine\n",
    "from ipywidgets import interact_manual\n",
    "from pyDatalog import pyDatalog\n",
    "import matplotlib.pyplot as plt\n",
    "plt.style.use('ggplot')\n",
    "plt.rcParams['figure.figsize'] = (10, 5)\n",
    "dataset = pd.read_csv('dataset.csv')\n",
    "dataset[:53]"
   ]
  },
  {
   "cell_type": "code",
   "execution_count": null,
   "metadata": {
    "collapsed": true
   },
   "outputs": [],
   "source": []
  },
  {
   "cell_type": "code",
   "execution_count": null,
   "metadata": {},
   "outputs": [],
   "source": [
    "accuracy = accuracy_score(y_test, predictions)\n",
    "print(\"Accuracy: %.2f%%\" % (accuracy * 100.0))"
   ]
  },
  {
   "cell_type": "code",
   "execution_count": null,
   "metadata": {},
   "outputs": [],
   "source": [
    "import xgboost as xgb\n",
    "from sklearn.preprocessing import LabelEncoder\n",
    "from numpy import loadtxt\n",
    "from xgboost import XGBClassifier\n",
    "from sklearn.model_selection import train_test_split\n",
    "from sklearn.metrics import accuracy_score\n",
    "# load data\n",
    "dataset = loadtxt('dataset1.csv', delimiter=\",\")\n",
    "\n",
    "# split data into X and y\n",
    "X = dataset[:,2:14]\n",
    "Y = dataset[:,1]\n",
    "print(Y)\n",
    "seed = 7 #If int, random_state is the seed used by the random number generator\n",
    "test_size = 0.33   # between 0.0 and 1.0 and represent the proportion of the dataset to include in the train split. \n",
    "#seed\n",
    "print(\"seed - \", seed)\n",
    "print(\"Y - \",Y)\n",
    "X_train, X_test, y_train, y_test = train_test_split(X, Y, test_size=1, random_state=1)\n",
    "'''print(\"y-train - \", y_train)#our Y\n",
    "print('y test - ', y_test)  #nтоже из У и Х\n",
    "print(\"X-test - \",X_test)\n",
    "print('X train - ', X_train)#not our X - сам разделил ,взял какую то часть их Х и для них вывел y_train\n",
    "#print(X_test,y_test)'''\n",
    "\n",
    "model = XGBClassifier()\n",
    "print(model)\n",
    "model.fit(X_train, y_train)\n",
    "# make predictions for test data\n",
    "X_test=[10,5,5,10,1,5,1,10,1,5,5,10]\n",
    "print(X_test)\n",
    "#вторая строчка ответ 400\n",
    "y_pred = model.predict(X_test)\n",
    "print(y_pred)\n",
    "predictions = [round(value) for value in y_pred]\n",
    "print('pred_y_test',predictions,y_test)\n",
    "\n",
    "accuracy = accuracy_score(y_test, predictions)\n",
    "print(\"Accuracy: %.2f%%\" % (accuracy * 100.0))"
   ]
  },
  {
   "cell_type": "code",
   "execution_count": null,
   "metadata": {
    "collapsed": true
   },
   "outputs": [],
   "source": []
  },
  {
   "cell_type": "code",
   "execution_count": null,
   "metadata": {},
   "outputs": [],
   "source": [
    "#dummies\n",
    "dataset1 = loadtxt('dataset1.csv', delimiter=\",\")\n",
    "X1=dataset1[:,2:14]\n",
    "df = pd.DataFrame(X1)\n",
    "# df.describe()\n",
    "ndf = pd.concat([pd.get_dummies(df[col], prefix=col) for col in df.columns],axis=1)\n",
    "print('НАМ НУЖНО ПОЛУЧИТЬ ТАКУЮ ЖЕ ТАБЛИЦУ НО ТОЛЬКО ДЛЯ ОДНОЙ СТРОКИ, КОТОРУЮ МЫ ВБИВАЕМ ')\n",
    "ndf.head()"
   ]
  },
  {
   "cell_type": "code",
   "execution_count": null,
   "metadata": {},
   "outputs": [],
   "source": [
    "# FOR one input data\n",
    "d1 = input().split()\n",
    "for i in range(len(d1)):\n",
    "    d1[i] = float(d1[i])\n",
    "print(d1)\n",
    "d = pd.DataFrame({'51': [d1[0],d1[1],d1[2],d1[3],d1[4],d1[5],d1[6],d1[7],d1[8],d1[9],d1[10],d1[11]], 'b': [1,5,10,1,5,10,1,5,10,1,5,10], 'c': [5,1,5,5,1,5,5,1,5,5,1,5], 'd': [10, 10,1,10, 10,1,10, 10,1,10, 10,1]})\n",
    "df1=d.transpose()\n",
    "print(df1)\n",
    "#df.columns\n",
    "#pd.get_dummies(df, prefix=[col])\n",
    "#pd.get_dummies(df.columns,prefix=col) for col in df.columns:\n",
    "ndf1 = pd.concat([pd.get_dummies(df1[col], prefix=col) for col in df1.columns], axis = 1)\n",
    "print(ndf1)\n",
    "ndf2= ndf1.iloc[0:1,0:36]\n",
    "print(ndf2)"
   ]
  },
  {
   "cell_type": "code",
   "execution_count": null,
   "metadata": {
    "scrolled": true
   },
   "outputs": [],
   "source": [
    "# split data into X and y\n",
    "X = ndf\n",
    "Y = dataset[:,1]\n",
    "seed = 7 #If int, random_state is the seed used by the random number generator\n",
    "test_size = 0.33   # between 0.0 and 1.0 and represent the proportion of the dataset to include in the train split. \n",
    "#seed\n",
    "print(\"seed - \", seed)\n",
    "print(\"Y - \",Y)\n",
    "X_train, X_test, y_train, y_test = train_test_split(X, Y, test_size=10, random_state=5)\n",
    "\n",
    "#print('y test - ', y_test)  #nтоже из У и Х\n",
    "print(\"X-test - \",X_test)\n",
    "print('y_test',y_test)\n",
    "print('X train - ', X_train)#not our X - сам разделил ,взял какую то часть их Х и для них вывел y_train\n",
    "print(\"y-train - \", y_train)#our Y\n",
    "\n",
    "model = XGBClassifier()\n",
    "\n",
    "print(model)\n",
    "model.fit(X_train, y_train)\n",
    "# make predictions for test data\n",
    "#X_test=[10,5,5,10,1,5,1,10,1,5,5,10]\n",
    "#ndf = pd.concat([pd.get_dummies(df[col], prefix=col) for col in df.columns],axis=1)\n",
    "#print(X_test)\n",
    "#вторая строчка ответ 400\n",
    "X_test=ndf2\n",
    "y_test = [1];\n",
    "\n",
    "y_pred = model.predict(X_test)\n",
    "print('X_test-',X_test)\n",
    "print('y_pred-',y_pred)\n",
    "predictions = [round(value) for value in y_pred]\n",
    "print('pred_y_test',predictions,y_test)\n",
    "\n",
    "accuracy = accuracy_score(y_test, predictions)\n",
    "print(\"Accuracy: %.2f%%\" % (accuracy * 100.0))\n"
   ]
  },
  {
   "cell_type": "code",
   "execution_count": null,
   "metadata": {
    "collapsed": true
   },
   "outputs": [],
   "source": []
  },
  {
   "cell_type": "code",
   "execution_count": null,
   "metadata": {},
   "outputs": [],
   "source": []
  },
  {
   "cell_type": "code",
   "execution_count": null,
   "metadata": {},
   "outputs": [],
   "source": [
    "print('нам нужно сделать также как выше, только не для целого dataframe а для одной строчки - то есть вводишь строку из 12 цифр и он должен преобразовать ответы 1-5-10 в числа 100 010 001' ) \n",
    "print('вводим для примера 1 5 10 1  на выхоже должны получить 4*3=12 столбцов одну строку')\n",
    "d2 = input().split()\n",
    "for i in range(len(d2)):\n",
    "    d2[i] = int(d2[i])\n",
    "print(d2)\n",
    "df_test = pd.DataFrame(d2)\n",
    "print('df_test datafame',df_test)\n",
    "df=df_test.transpose()\n",
    "print('df_transposed',df)\n",
    "  \n",
    "#d2 = pd.Series(list(d2))\n",
    "#print('d2',d2)\n",
    "#data_test=pd.get_dummies(d2)\n",
    "#print('data_test',data_test)\n",
    "#test = data_test.as_matrix().flatten()\n",
    "#print(test)\n",
    "#df2=d2.transpose()\n",
    "#print(df2)\n",
    "#data_test = pd.get_dummies(df)\n",
    "#print(data_test)\n",
    "#test2 = pd.DataFrame(data_test.values.reshape(1, -1))\n",
    "#print(test2)\n",
    "ndf = pd.concat([pd.get_dummies(df[col], prefix=col) for col in df.columns], axis = 1)\n",
    "print(ndf)\n",
    "\n"
   ]
  },
  {
   "cell_type": "code",
   "execution_count": 13,
   "metadata": {},
   "outputs": [
    {
     "data": {
      "application/vnd.jupyter.widget-view+json": {
       "model_id": "342abefb9c094cd6ac6d9e50f323d4d5",
       "version_major": 2,
       "version_minor": 0
      },
      "text/plain": [
       "A Jupyter Widget"
      ]
     },
     "metadata": {},
     "output_type": "display_data"
    },
    {
     "name": "stdout",
     "output_type": "stream",
     "text": [
      "[]\n"
     ]
    }
   ],
   "source": [
    "from ipywidgets import interact_manual\n",
    "from pyDatalog import pyDatalog\n",
    "pyDatalog.create_terms('Q1','Q2')\n",
    "\n",
    "@interact_manual\n",
    "def get_input(Question1='q1', Q1=10, Q2 =10):\n",
    "    print(Q1)\n",
    "\n",
    "for i in range(len(d1)):\n",
    "    d1[0]=Q1\n",
    "\n",
    "print(d1)\n"
   ]
  },
  {
   "cell_type": "code",
   "execution_count": 14,
   "metadata": {},
   "outputs": [
    {
     "data": {
      "application/vnd.jupyter.widget-view+json": {
       "model_id": "a66f14d04458443d83d81f5562f38a4f",
       "version_major": 2,
       "version_minor": 0
      },
      "text/plain": [
       "A Jupyter Widget"
      ]
     },
     "metadata": {},
     "output_type": "display_data"
    },
    {
     "name": "stdout",
     "output_type": "stream",
     "text": [
      "[]\n"
     ]
    },
    {
     "ename": "NameError",
     "evalue": "name 'pd' is not defined",
     "output_type": "error",
     "traceback": [
      "\u001b[1;31m---------------------------------------------------------------------------\u001b[0m",
      "\u001b[1;31mNameError\u001b[0m                                 Traceback (most recent call last)",
      "\u001b[1;32m<ipython-input-14-3786770f284d>\u001b[0m in \u001b[0;36m<module>\u001b[1;34m()\u001b[0m\n\u001b[0;32m     12\u001b[0m \u001b[1;33m\u001b[0m\u001b[0m\n\u001b[0;32m     13\u001b[0m \u001b[0mprint\u001b[0m\u001b[1;33m(\u001b[0m\u001b[0md1\u001b[0m\u001b[1;33m)\u001b[0m\u001b[1;33m\u001b[0m\u001b[0m\n\u001b[1;32m---> 14\u001b[1;33m \u001b[0md\u001b[0m \u001b[1;33m=\u001b[0m \u001b[0mpd\u001b[0m\u001b[1;33m.\u001b[0m\u001b[0mDataFrame\u001b[0m\u001b[1;33m(\u001b[0m\u001b[1;33m{\u001b[0m\u001b[1;34m'51'\u001b[0m\u001b[1;33m:\u001b[0m \u001b[1;33m[\u001b[0m\u001b[0md1\u001b[0m\u001b[1;33m[\u001b[0m\u001b[1;36m0\u001b[0m\u001b[1;33m]\u001b[0m\u001b[1;33m,\u001b[0m\u001b[0md1\u001b[0m\u001b[1;33m[\u001b[0m\u001b[1;36m1\u001b[0m\u001b[1;33m]\u001b[0m\u001b[1;33m,\u001b[0m\u001b[0md1\u001b[0m\u001b[1;33m[\u001b[0m\u001b[1;36m2\u001b[0m\u001b[1;33m]\u001b[0m\u001b[1;33m,\u001b[0m\u001b[0md1\u001b[0m\u001b[1;33m[\u001b[0m\u001b[1;36m3\u001b[0m\u001b[1;33m]\u001b[0m\u001b[1;33m,\u001b[0m\u001b[0md1\u001b[0m\u001b[1;33m[\u001b[0m\u001b[1;36m4\u001b[0m\u001b[1;33m]\u001b[0m\u001b[1;33m,\u001b[0m\u001b[0md1\u001b[0m\u001b[1;33m[\u001b[0m\u001b[1;36m5\u001b[0m\u001b[1;33m]\u001b[0m\u001b[1;33m,\u001b[0m\u001b[0md1\u001b[0m\u001b[1;33m[\u001b[0m\u001b[1;36m6\u001b[0m\u001b[1;33m]\u001b[0m\u001b[1;33m,\u001b[0m\u001b[0md1\u001b[0m\u001b[1;33m[\u001b[0m\u001b[1;36m7\u001b[0m\u001b[1;33m]\u001b[0m\u001b[1;33m,\u001b[0m\u001b[0md1\u001b[0m\u001b[1;33m[\u001b[0m\u001b[1;36m8\u001b[0m\u001b[1;33m]\u001b[0m\u001b[1;33m,\u001b[0m\u001b[0md1\u001b[0m\u001b[1;33m[\u001b[0m\u001b[1;36m9\u001b[0m\u001b[1;33m]\u001b[0m\u001b[1;33m,\u001b[0m\u001b[0md1\u001b[0m\u001b[1;33m[\u001b[0m\u001b[1;36m10\u001b[0m\u001b[1;33m]\u001b[0m\u001b[1;33m,\u001b[0m\u001b[0md1\u001b[0m\u001b[1;33m[\u001b[0m\u001b[1;36m11\u001b[0m\u001b[1;33m]\u001b[0m\u001b[1;33m]\u001b[0m\u001b[1;33m,\u001b[0m \u001b[1;34m'b'\u001b[0m\u001b[1;33m:\u001b[0m \u001b[1;33m[\u001b[0m\u001b[1;36m1\u001b[0m\u001b[1;33m,\u001b[0m\u001b[1;36m5\u001b[0m\u001b[1;33m,\u001b[0m\u001b[1;36m10\u001b[0m\u001b[1;33m,\u001b[0m\u001b[1;36m1\u001b[0m\u001b[1;33m,\u001b[0m\u001b[1;36m5\u001b[0m\u001b[1;33m,\u001b[0m\u001b[1;36m10\u001b[0m\u001b[1;33m,\u001b[0m\u001b[1;36m1\u001b[0m\u001b[1;33m,\u001b[0m\u001b[1;36m5\u001b[0m\u001b[1;33m,\u001b[0m\u001b[1;36m10\u001b[0m\u001b[1;33m,\u001b[0m\u001b[1;36m1\u001b[0m\u001b[1;33m,\u001b[0m\u001b[1;36m5\u001b[0m\u001b[1;33m,\u001b[0m\u001b[1;36m10\u001b[0m\u001b[1;33m]\u001b[0m\u001b[1;33m,\u001b[0m \u001b[1;34m'c'\u001b[0m\u001b[1;33m:\u001b[0m \u001b[1;33m[\u001b[0m\u001b[1;36m5\u001b[0m\u001b[1;33m,\u001b[0m\u001b[1;36m1\u001b[0m\u001b[1;33m,\u001b[0m\u001b[1;36m5\u001b[0m\u001b[1;33m,\u001b[0m\u001b[1;36m5\u001b[0m\u001b[1;33m,\u001b[0m\u001b[1;36m1\u001b[0m\u001b[1;33m,\u001b[0m\u001b[1;36m5\u001b[0m\u001b[1;33m,\u001b[0m\u001b[1;36m5\u001b[0m\u001b[1;33m,\u001b[0m\u001b[1;36m1\u001b[0m\u001b[1;33m,\u001b[0m\u001b[1;36m5\u001b[0m\u001b[1;33m,\u001b[0m\u001b[1;36m5\u001b[0m\u001b[1;33m,\u001b[0m\u001b[1;36m1\u001b[0m\u001b[1;33m,\u001b[0m\u001b[1;36m5\u001b[0m\u001b[1;33m]\u001b[0m\u001b[1;33m,\u001b[0m \u001b[1;34m'd'\u001b[0m\u001b[1;33m:\u001b[0m \u001b[1;33m[\u001b[0m\u001b[1;36m10\u001b[0m\u001b[1;33m,\u001b[0m \u001b[1;36m10\u001b[0m\u001b[1;33m,\u001b[0m\u001b[1;36m1\u001b[0m\u001b[1;33m,\u001b[0m\u001b[1;36m10\u001b[0m\u001b[1;33m,\u001b[0m \u001b[1;36m10\u001b[0m\u001b[1;33m,\u001b[0m\u001b[1;36m1\u001b[0m\u001b[1;33m,\u001b[0m\u001b[1;36m10\u001b[0m\u001b[1;33m,\u001b[0m \u001b[1;36m10\u001b[0m\u001b[1;33m,\u001b[0m\u001b[1;36m1\u001b[0m\u001b[1;33m,\u001b[0m\u001b[1;36m10\u001b[0m\u001b[1;33m,\u001b[0m \u001b[1;36m10\u001b[0m\u001b[1;33m,\u001b[0m\u001b[1;36m1\u001b[0m\u001b[1;33m]\u001b[0m\u001b[1;33m}\u001b[0m\u001b[1;33m)\u001b[0m\u001b[1;33m\u001b[0m\u001b[0m\n\u001b[0m\u001b[0;32m     15\u001b[0m \u001b[0mdf1\u001b[0m\u001b[1;33m=\u001b[0m\u001b[0md\u001b[0m\u001b[1;33m.\u001b[0m\u001b[0mtranspose\u001b[0m\u001b[1;33m(\u001b[0m\u001b[1;33m)\u001b[0m\u001b[1;33m\u001b[0m\u001b[0m\n\u001b[0;32m     16\u001b[0m \u001b[0mprint\u001b[0m\u001b[1;33m(\u001b[0m\u001b[0mdf1\u001b[0m\u001b[1;33m)\u001b[0m\u001b[1;33m\u001b[0m\u001b[0m\n",
      "\u001b[1;31mNameError\u001b[0m: name 'pd' is not defined"
     ]
    }
   ],
   "source": [
    "# FOR one input data\n",
    "from ipywidgets import interact_manual\n",
    "from pyDatalog import pyDatalog\n",
    "pyDatalog.create_terms('Q1','Q2')\n",
    "\n",
    "@interact_manual\n",
    "def get_input(Question1='q1', Q1=10, Q2 =10):\n",
    "    print(Q1)\n",
    "\n",
    "for i in range(len(d1)):\n",
    "    d1[0]=Q1\n",
    "\n",
    "print(d1)\n",
    "d = pd.DataFrame({'51': [d1[0],d1[1],d1[2],d1[3],d1[4],d1[5],d1[6],d1[7],d1[8],d1[9],d1[10],d1[11]], 'b': [1,5,10,1,5,10,1,5,10,1,5,10], 'c': [5,1,5,5,1,5,5,1,5,5,1,5], 'd': [10, 10,1,10, 10,1,10, 10,1,10, 10,1]})\n",
    "df1=d.transpose()\n",
    "print(df1)\n",
    "#df.columns\n",
    "#pd.get_dummies(df, prefix=[col])\n",
    "#pd.get_dummies(df.columns,prefix=col) for col in df.columns:\n",
    "ndf1 = pd.concat([pd.get_dummies(df1[col], prefix=col) for col in df1.columns], axis = 1)\n",
    "print(ndf1)\n",
    "ndf2= ndf1.iloc[0:1,0:36]\n",
    "print(ndf2)"
   ]
  },
  {
   "cell_type": "code",
   "execution_count": null,
   "metadata": {
    "collapsed": true
   },
   "outputs": [],
   "source": []
  },
  {
   "cell_type": "code",
   "execution_count": null,
   "metadata": {
    "collapsed": true
   },
   "outputs": [],
   "source": []
  },
  {
   "cell_type": "code",
   "execution_count": null,
   "metadata": {
    "collapsed": true
   },
   "outputs": [],
   "source": []
  },
  {
   "cell_type": "code",
   "execution_count": null,
   "metadata": {
    "collapsed": true
   },
   "outputs": [],
   "source": [
    "  "
   ]
  },
  {
   "cell_type": "code",
   "execution_count": null,
   "metadata": {
    "collapsed": true
   },
   "outputs": [],
   "source": []
  },
  {
   "cell_type": "code",
   "execution_count": null,
   "metadata": {
    "collapsed": true
   },
   "outputs": [],
   "source": []
  },
  {
   "cell_type": "code",
   "execution_count": null,
   "metadata": {
    "scrolled": true
   },
   "outputs": [],
   "source": []
  },
  {
   "cell_type": "code",
   "execution_count": null,
   "metadata": {},
   "outputs": [],
   "source": []
  },
  {
   "cell_type": "code",
   "execution_count": null,
   "metadata": {},
   "outputs": [],
   "source": [
    "\n",
    "  "
   ]
  },
  {
   "cell_type": "code",
   "execution_count": null,
   "metadata": {},
   "outputs": [],
   "source": []
  },
  {
   "cell_type": "code",
   "execution_count": null,
   "metadata": {},
   "outputs": [],
   "source": [
    "\n",
    "  "
   ]
  },
  {
   "cell_type": "code",
   "execution_count": null,
   "metadata": {
    "collapsed": true
   },
   "outputs": [],
   "source": []
  },
  {
   "cell_type": "code",
   "execution_count": null,
   "metadata": {},
   "outputs": [],
   "source": [
    "d1 = input().split()\n",
    "for i in range(len(d1)):\n",
    "    d1[i] = int(d1[i])\n",
    "print(d1)\n",
    "df = pd.DataFrame({'a': [d1[0],d1[1],d1[2],d1[3],d1[4],d1[5],d1[6],d1[7],d1[8],d1[9],d1[10],d1[11]], 'b': [1,5,10,1,5,10,1,5,10,1,5,10], 'c': [5,1,5,5,1,5,5,1,5,5,1,5], 'd': [10, 10,1,10, 10,1,10, 10,1,10, 10,1]})\n",
    "df=d.transpose()\n",
    "print(df)\n",
    "#df.columns\n",
    "#pd.get_dummies(df, prefix=[col])\n",
    "#pd.get_dummies(df.columns,prefix=col) for col in df.columns:\n",
    "ndf = pd.concat([pd.get_dummies(df[col], prefix=col) for col in df.columns], axis = 1)\n",
    "print(ndf)\n",
    "ndf2= ndf.iloc[0:1,0:36]\n",
    "print(ndf2)\n"
   ]
  },
  {
   "cell_type": "code",
   "execution_count": null,
   "metadata": {
    "collapsed": true
   },
   "outputs": [],
   "source": []
  },
  {
   "cell_type": "code",
   "execution_count": null,
   "metadata": {
    "collapsed": true
   },
   "outputs": [],
   "source": []
  },
  {
   "cell_type": "code",
   "execution_count": null,
   "metadata": {
    "collapsed": true
   },
   "outputs": [],
   "source": []
  },
  {
   "cell_type": "code",
   "execution_count": null,
   "metadata": {
    "collapsed": true
   },
   "outputs": [],
   "source": []
  },
  {
   "cell_type": "code",
   "execution_count": null,
   "metadata": {
    "collapsed": true
   },
   "outputs": [],
   "source": [
    "'''d1 = input().split()\n",
    "for i in range(len(d1)):\n",
    "    d1[i] = int(d1[i])\n",
    "print(d1)\n",
    "f = pd.DataFrame({'A': [d1[0],d1[1],d1[2]],'B': [d1[3],d1[4],d1[5]]})\n",
    "pd.get_dummies(f, prefix=['col1', 'col2'])\n",
    "\n",
    "\n",
    "d1 = input().split()\n",
    "for i in range(len(d1)):\n",
    "    d1[i] = int(d1[i])\n",
    "print(d1)\n",
    "d = pd.DataFrame({'a': [d1[0],d1[1],d1[2]]})\n",
    "df=d.transpose()\n",
    "print(df)\n",
    "#df.columns\n",
    "#pd.get_dummies(df, prefix=[col])\n",
    "#pd.get_dummies(df.columns,prefix=col) for col in df.columns:\n",
    "ndf = pd.concat([pd.get_dummies(df[col], prefix=col) for col in df.columns], axis = 1)\n",
    "ndf\n",
    "\n",
    "\n",
    "\n",
    "\n",
    "d1 = input().split()\n",
    "for i in range(len(d1)):\n",
    "    d1[i] = int(d1[i])\n",
    "print(d1)\n",
    "\n",
    "d2 = input().split()\n",
    "for i in range(len(d2)):\n",
    "    d2[i] = int(d2[i])\n",
    "print(d2)\n",
    "\n",
    "df_test1 = pd.DataFrame(d1)\n",
    "print('df_test datafame',df_test1)\n",
    "df1=df_test1.transpose()\n",
    "print(df)\n",
    "\n",
    "df_test = pd.DataFrame(d2)\n",
    "print('df_test datafame',df_test)\n",
    "df=df_test.transpose()\n",
    "print(df)\n",
    "\n",
    "\n",
    "ndf = pd.concat([pd.get_dummies(df[col], prefix=col) for col in df.columns], axis = 1)\n",
    "ndf\n",
    "\n",
    "'''"
   ]
  },
  {
   "cell_type": "code",
   "execution_count": null,
   "metadata": {
    "collapsed": true
   },
   "outputs": [],
   "source": []
  },
  {
   "cell_type": "code",
   "execution_count": null,
   "metadata": {
    "collapsed": true
   },
   "outputs": [],
   "source": []
  },
  {
   "cell_type": "code",
   "execution_count": null,
   "metadata": {
    "collapsed": true
   },
   "outputs": [],
   "source": []
  },
  {
   "cell_type": "code",
   "execution_count": null,
   "metadata": {
    "collapsed": true
   },
   "outputs": [],
   "source": []
  },
  {
   "cell_type": "code",
   "execution_count": null,
   "metadata": {
    "collapsed": true
   },
   "outputs": [],
   "source": []
  },
  {
   "cell_type": "code",
   "execution_count": null,
   "metadata": {
    "collapsed": true
   },
   "outputs": [],
   "source": []
  },
  {
   "cell_type": "markdown",
   "metadata": {},
   "source": []
  },
  {
   "cell_type": "code",
   "execution_count": null,
   "metadata": {
    "collapsed": true
   },
   "outputs": [],
   "source": []
  },
  {
   "cell_type": "code",
   "execution_count": null,
   "metadata": {
    "collapsed": true
   },
   "outputs": [],
   "source": []
  },
  {
   "cell_type": "code",
   "execution_count": null,
   "metadata": {
    "collapsed": true
   },
   "outputs": [],
   "source": []
  },
  {
   "cell_type": "code",
   "execution_count": null,
   "metadata": {
    "collapsed": true
   },
   "outputs": [],
   "source": []
  },
  {
   "cell_type": "code",
   "execution_count": null,
   "metadata": {
    "collapsed": true
   },
   "outputs": [],
   "source": []
  },
  {
   "cell_type": "code",
   "execution_count": null,
   "metadata": {
    "collapsed": true
   },
   "outputs": [],
   "source": []
  },
  {
   "cell_type": "code",
   "execution_count": null,
   "metadata": {
    "collapsed": true
   },
   "outputs": [],
   "source": []
  },
  {
   "cell_type": "code",
   "execution_count": null,
   "metadata": {
    "collapsed": true
   },
   "outputs": [],
   "source": []
  },
  {
   "cell_type": "code",
   "execution_count": null,
   "metadata": {
    "collapsed": true
   },
   "outputs": [],
   "source": []
  },
  {
   "cell_type": "code",
   "execution_count": null,
   "metadata": {
    "collapsed": true
   },
   "outputs": [],
   "source": []
  },
  {
   "cell_type": "code",
   "execution_count": null,
   "metadata": {
    "collapsed": true
   },
   "outputs": [],
   "source": []
  },
  {
   "cell_type": "code",
   "execution_count": null,
   "metadata": {
    "collapsed": true
   },
   "outputs": [],
   "source": []
  },
  {
   "cell_type": "code",
   "execution_count": null,
   "metadata": {
    "collapsed": true
   },
   "outputs": [],
   "source": []
  },
  {
   "cell_type": "code",
   "execution_count": null,
   "metadata": {
    "collapsed": true
   },
   "outputs": [],
   "source": []
  },
  {
   "cell_type": "code",
   "execution_count": null,
   "metadata": {
    "collapsed": true
   },
   "outputs": [],
   "source": [
    " "
   ]
  },
  {
   "cell_type": "code",
   "execution_count": null,
   "metadata": {
    "collapsed": true
   },
   "outputs": [],
   "source": []
  },
  {
   "cell_type": "code",
   "execution_count": null,
   "metadata": {
    "collapsed": true
   },
   "outputs": [],
   "source": []
  },
  {
   "cell_type": "code",
   "execution_count": null,
   "metadata": {
    "collapsed": true
   },
   "outputs": [],
   "source": []
  },
  {
   "cell_type": "code",
   "execution_count": null,
   "metadata": {
    "collapsed": true
   },
   "outputs": [],
   "source": []
  },
  {
   "cell_type": "code",
   "execution_count": null,
   "metadata": {
    "collapsed": true
   },
   "outputs": [],
   "source": []
  },
  {
   "cell_type": "code",
   "execution_count": null,
   "metadata": {},
   "outputs": [],
   "source": [
    "\n"
   ]
  },
  {
   "cell_type": "code",
   "execution_count": null,
   "metadata": {
    "collapsed": true
   },
   "outputs": [],
   "source": []
  },
  {
   "cell_type": "code",
   "execution_count": null,
   "metadata": {
    "collapsed": true
   },
   "outputs": [],
   "source": []
  },
  {
   "cell_type": "code",
   "execution_count": null,
   "metadata": {
    "collapsed": true
   },
   "outputs": [],
   "source": []
  },
  {
   "cell_type": "code",
   "execution_count": null,
   "metadata": {
    "collapsed": true
   },
   "outputs": [],
   "source": []
  },
  {
   "cell_type": "code",
   "execution_count": null,
   "metadata": {
    "collapsed": true
   },
   "outputs": [],
   "source": []
  },
  {
   "cell_type": "code",
   "execution_count": null,
   "metadata": {
    "collapsed": true
   },
   "outputs": [],
   "source": []
  },
  {
   "cell_type": "code",
   "execution_count": null,
   "metadata": {
    "collapsed": true
   },
   "outputs": [],
   "source": []
  },
  {
   "cell_type": "code",
   "execution_count": null,
   "metadata": {
    "collapsed": true
   },
   "outputs": [],
   "source": []
  },
  {
   "cell_type": "code",
   "execution_count": null,
   "metadata": {
    "collapsed": true
   },
   "outputs": [],
   "source": []
  },
  {
   "cell_type": "code",
   "execution_count": null,
   "metadata": {
    "collapsed": true
   },
   "outputs": [],
   "source": []
  },
  {
   "cell_type": "code",
   "execution_count": null,
   "metadata": {
    "collapsed": true
   },
   "outputs": [],
   "source": []
  },
  {
   "cell_type": "code",
   "execution_count": null,
   "metadata": {
    "collapsed": true
   },
   "outputs": [],
   "source": []
  },
  {
   "cell_type": "code",
   "execution_count": null,
   "metadata": {
    "collapsed": true
   },
   "outputs": [],
   "source": []
  },
  {
   "cell_type": "code",
   "execution_count": null,
   "metadata": {
    "collapsed": true
   },
   "outputs": [],
   "source": []
  },
  {
   "cell_type": "code",
   "execution_count": null,
   "metadata": {
    "collapsed": true
   },
   "outputs": [],
   "source": []
  },
  {
   "cell_type": "code",
   "execution_count": null,
   "metadata": {
    "collapsed": true
   },
   "outputs": [],
   "source": []
  },
  {
   "cell_type": "code",
   "execution_count": null,
   "metadata": {
    "collapsed": true
   },
   "outputs": [],
   "source": []
  },
  {
   "cell_type": "code",
   "execution_count": null,
   "metadata": {
    "collapsed": true
   },
   "outputs": [],
   "source": []
  },
  {
   "cell_type": "code",
   "execution_count": null,
   "metadata": {
    "collapsed": true
   },
   "outputs": [],
   "source": []
  },
  {
   "cell_type": "code",
   "execution_count": null,
   "metadata": {
    "collapsed": true
   },
   "outputs": [],
   "source": []
  },
  {
   "cell_type": "code",
   "execution_count": null,
   "metadata": {
    "collapsed": true
   },
   "outputs": [],
   "source": []
  },
  {
   "cell_type": "code",
   "execution_count": null,
   "metadata": {
    "collapsed": true
   },
   "outputs": [],
   "source": []
  },
  {
   "cell_type": "code",
   "execution_count": null,
   "metadata": {
    "collapsed": true
   },
   "outputs": [],
   "source": []
  },
  {
   "cell_type": "code",
   "execution_count": null,
   "metadata": {
    "collapsed": true
   },
   "outputs": [],
   "source": []
  },
  {
   "cell_type": "code",
   "execution_count": null,
   "metadata": {
    "collapsed": true
   },
   "outputs": [],
   "source": []
  },
  {
   "cell_type": "code",
   "execution_count": null,
   "metadata": {
    "collapsed": true
   },
   "outputs": [],
   "source": []
  },
  {
   "cell_type": "code",
   "execution_count": null,
   "metadata": {
    "collapsed": true
   },
   "outputs": [],
   "source": []
  },
  {
   "cell_type": "code",
   "execution_count": null,
   "metadata": {
    "collapsed": true
   },
   "outputs": [],
   "source": []
  },
  {
   "cell_type": "code",
   "execution_count": null,
   "metadata": {
    "collapsed": true
   },
   "outputs": [],
   "source": []
  }
 ],
 "metadata": {
  "kernelspec": {
   "display_name": "Python 3",
   "language": "python",
   "name": "python3"
  },
  "language_info": {
   "codemirror_mode": {
    "name": "ipython",
    "version": 3
   },
   "file_extension": ".py",
   "mimetype": "text/x-python",
   "name": "python",
   "nbconvert_exporter": "python",
   "pygments_lexer": "ipython3",
   "version": "3.6.3"
  }
 },
 "nbformat": 4,
 "nbformat_minor": 2
}
